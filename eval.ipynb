{
 "cells": [
  {
   "cell_type": "code",
   "execution_count": 712,
   "metadata": {},
   "outputs": [],
   "source": [
    "import os\n",
    "import folium\n",
    "import numpy as np\n",
    "import pandas as pd\n",
    "\n",
    "pd.set_option('display.max_row', None)\n",
    "pd.set_option('display.max_column', None)\n",
    "\n",
    "import pymap3d as pm\n",
    "\n",
    "from matplotlib import pyplot as plt"
   ]
  },
  {
   "cell_type": "markdown",
   "metadata": {},
   "source": [
    "___"
   ]
  },
  {
   "cell_type": "markdown",
   "metadata": {},
   "source": [
    "# Data Import"
   ]
  },
  {
   "cell_type": "code",
   "execution_count": 713,
   "metadata": {},
   "outputs": [],
   "source": [
    "#Our results importing\n",
    "#file_ins = \"Our_results.txt\" #This is directly in the required format and has time_utc already\n",
    "#file_gt = \"ground_truth.txt.nmea.body.ie\""
   ]
  },
  {
   "cell_type": "code",
   "execution_count": 714,
   "metadata": {},
   "outputs": [],
   "source": [
    "#KF-GINS results\n",
    "file_ins = 'training_dataset.csv'\n",
    "file_gt = \"y_train_dataset.csv\" "
   ]
  },
  {
   "cell_type": "markdown",
   "metadata": {},
   "source": [
    "#### GT"
   ]
  },
  {
   "cell_type": "code",
   "execution_count": 715,
   "metadata": {},
   "outputs": [
    {
     "data": {
      "text/html": [
       "<div>\n",
       "<style scoped>\n",
       "    .dataframe tbody tr th:only-of-type {\n",
       "        vertical-align: middle;\n",
       "    }\n",
       "\n",
       "    .dataframe tbody tr th {\n",
       "        vertical-align: top;\n",
       "    }\n",
       "\n",
       "    .dataframe thead th {\n",
       "        text-align: right;\n",
       "    }\n",
       "</style>\n",
       "<table border=\"1\" class=\"dataframe\">\n",
       "  <thead>\n",
       "    <tr style=\"text-align: right;\">\n",
       "      <th></th>\n",
       "      <th>Week</th>\n",
       "      <th>GPSTime</th>\n",
       "      <th>Latitude</th>\n",
       "      <th>Longitude</th>\n",
       "      <th>H-Ell</th>\n",
       "      <th>Roll</th>\n",
       "      <th>Pitch</th>\n",
       "      <th>Heading</th>\n",
       "    </tr>\n",
       "  </thead>\n",
       "  <tbody>\n",
       "    <tr>\n",
       "      <th>84757</th>\n",
       "      <td>0</td>\n",
       "      <td>357927.015837</td>\n",
       "      <td>30.451049</td>\n",
       "      <td>114.464856</td>\n",
       "      <td>27.973521</td>\n",
       "      <td>0.905960</td>\n",
       "      <td>1.356358</td>\n",
       "      <td>0.850911</td>\n",
       "    </tr>\n",
       "    <tr>\n",
       "      <th>84758</th>\n",
       "      <td>0</td>\n",
       "      <td>357927.020722</td>\n",
       "      <td>30.451049</td>\n",
       "      <td>114.464856</td>\n",
       "      <td>27.974086</td>\n",
       "      <td>0.911146</td>\n",
       "      <td>1.357904</td>\n",
       "      <td>0.852069</td>\n",
       "    </tr>\n",
       "  </tbody>\n",
       "</table>\n",
       "</div>"
      ],
      "text/plain": [
       "       Week        GPSTime   Latitude   Longitude      H-Ell      Roll  \\\n",
       "84757     0  357927.015837  30.451049  114.464856  27.973521  0.905960   \n",
       "84758     0  357927.020722  30.451049  114.464856  27.974086  0.911146   \n",
       "\n",
       "          Pitch   Heading  \n",
       "84757  1.356358  0.850911  \n",
       "84758  1.357904  0.852069  "
      ]
     },
     "execution_count": 715,
     "metadata": {},
     "output_type": "execute_result"
    }
   ],
   "source": [
    "results = pd.read_csv(file_ins, header=0)\n",
    "results = results[results['Sample'] == 20]\n",
    "results = results.drop(['Sample'], axis=1)\n",
    "results.head(2)"
   ]
  },
  {
   "cell_type": "code",
   "execution_count": 716,
   "metadata": {},
   "outputs": [],
   "source": [
    "_ins = results.copy()"
   ]
  },
  {
   "cell_type": "code",
   "execution_count": 717,
   "metadata": {},
   "outputs": [
    {
     "data": {
      "text/html": [
       "<div>\n",
       "<style scoped>\n",
       "    .dataframe tbody tr th:only-of-type {\n",
       "        vertical-align: middle;\n",
       "    }\n",
       "\n",
       "    .dataframe tbody tr th {\n",
       "        vertical-align: top;\n",
       "    }\n",
       "\n",
       "    .dataframe thead th {\n",
       "        text-align: right;\n",
       "    }\n",
       "</style>\n",
       "<table border=\"1\" class=\"dataframe\">\n",
       "  <thead>\n",
       "    <tr style=\"text-align: right;\">\n",
       "      <th></th>\n",
       "      <th>Week</th>\n",
       "      <th>GPSTime</th>\n",
       "      <th>Latitude</th>\n",
       "      <th>Longitude</th>\n",
       "      <th>H-Ell</th>\n",
       "      <th>Roll</th>\n",
       "      <th>Pitch</th>\n",
       "      <th>Heading</th>\n",
       "    </tr>\n",
       "  </thead>\n",
       "  <tbody>\n",
       "    <tr>\n",
       "      <th>83214</th>\n",
       "      <td>0</td>\n",
       "      <td>357927.0123</td>\n",
       "      <td>30.451049</td>\n",
       "      <td>114.464856</td>\n",
       "      <td>27.97355</td>\n",
       "      <td>0.90152</td>\n",
       "      <td>1.35216</td>\n",
       "      <td>0.85153</td>\n",
       "    </tr>\n",
       "    <tr>\n",
       "      <th>83215</th>\n",
       "      <td>0</td>\n",
       "      <td>357927.0173</td>\n",
       "      <td>30.451049</td>\n",
       "      <td>114.464856</td>\n",
       "      <td>27.97406</td>\n",
       "      <td>0.90399</td>\n",
       "      <td>1.35446</td>\n",
       "      <td>0.85192</td>\n",
       "    </tr>\n",
       "  </tbody>\n",
       "</table>\n",
       "</div>"
      ],
      "text/plain": [
       "       Week      GPSTime   Latitude   Longitude     H-Ell     Roll    Pitch  \\\n",
       "83214     0  357927.0123  30.451049  114.464856  27.97355  0.90152  1.35216   \n",
       "83215     0  357927.0173  30.451049  114.464856  27.97406  0.90399  1.35446   \n",
       "\n",
       "       Heading  \n",
       "83214  0.85153  \n",
       "83215  0.85192  "
      ]
     },
     "execution_count": 717,
     "metadata": {},
     "output_type": "execute_result"
    }
   ],
   "source": [
    "_gt = pd.read_csv(file_gt)\n",
    "_gt = _gt[_gt['Sample'] == 20]\n",
    "_gt = _gt.drop(columns=['Sample', 'North Velocity', 'East Velocity', 'Down Velocity'])\n",
    "_gt.head(2)"
   ]
  },
  {
   "cell_type": "code",
   "execution_count": 718,
   "metadata": {},
   "outputs": [
    {
     "data": {
      "text/html": [
       "<div>\n",
       "<style scoped>\n",
       "    .dataframe tbody tr th:only-of-type {\n",
       "        vertical-align: middle;\n",
       "    }\n",
       "\n",
       "    .dataframe tbody tr th {\n",
       "        vertical-align: top;\n",
       "    }\n",
       "\n",
       "    .dataframe thead th {\n",
       "        text-align: right;\n",
       "    }\n",
       "</style>\n",
       "<table border=\"1\" class=\"dataframe\">\n",
       "  <thead>\n",
       "    <tr style=\"text-align: right;\">\n",
       "      <th></th>\n",
       "      <th>Week</th>\n",
       "      <th>GPSTime</th>\n",
       "      <th>Latitude</th>\n",
       "      <th>Longitude</th>\n",
       "      <th>H-Ell</th>\n",
       "      <th>Roll</th>\n",
       "      <th>Pitch</th>\n",
       "      <th>Heading</th>\n",
       "    </tr>\n",
       "  </thead>\n",
       "  <tbody>\n",
       "    <tr>\n",
       "      <th>83214</th>\n",
       "      <td>0</td>\n",
       "      <td>357927.0123</td>\n",
       "      <td>30.451049</td>\n",
       "      <td>114.464856</td>\n",
       "      <td>27.97355</td>\n",
       "      <td>0.90152</td>\n",
       "      <td>1.35216</td>\n",
       "      <td>0.85153</td>\n",
       "    </tr>\n",
       "    <tr>\n",
       "      <th>83215</th>\n",
       "      <td>0</td>\n",
       "      <td>357927.0173</td>\n",
       "      <td>30.451049</td>\n",
       "      <td>114.464856</td>\n",
       "      <td>27.97406</td>\n",
       "      <td>0.90399</td>\n",
       "      <td>1.35446</td>\n",
       "      <td>0.85192</td>\n",
       "    </tr>\n",
       "  </tbody>\n",
       "</table>\n",
       "</div>"
      ],
      "text/plain": [
       "       Week      GPSTime   Latitude   Longitude     H-Ell     Roll    Pitch  \\\n",
       "83214     0  357927.0123  30.451049  114.464856  27.97355  0.90152  1.35216   \n",
       "83215     0  357927.0173  30.451049  114.464856  27.97406  0.90399  1.35446   \n",
       "\n",
       "       Heading  \n",
       "83214  0.85153  \n",
       "83215  0.85192  "
      ]
     },
     "execution_count": 718,
     "metadata": {},
     "output_type": "execute_result"
    }
   ],
   "source": [
    "_gt = _gt[_gt.index > 0].copy()\n",
    "_gt.head(2)"
   ]
  },
  {
   "cell_type": "code",
   "execution_count": 719,
   "metadata": {},
   "outputs": [
    {
     "name": "stdout",
     "output_type": "stream",
     "text": [
      "<class 'pandas.core.frame.DataFrame'>\n",
      "Int64Index: 2814 entries, 83214 to 86027\n",
      "Data columns (total 8 columns):\n",
      " #   Column     Non-Null Count  Dtype  \n",
      "---  ------     --------------  -----  \n",
      " 0   Week       2814 non-null   int64  \n",
      " 1   GPSTime    2814 non-null   float64\n",
      " 2   Latitude   2814 non-null   float64\n",
      " 3   Longitude  2814 non-null   float64\n",
      " 4   H-Ell      2814 non-null   float64\n",
      " 5   Roll       2814 non-null   float64\n",
      " 6   Pitch      2814 non-null   float64\n",
      " 7   Heading    2814 non-null   float64\n",
      "dtypes: float64(7), int64(1)\n",
      "memory usage: 197.9 KB\n"
     ]
    }
   ],
   "source": [
    "_gt.info()"
   ]
  },
  {
   "cell_type": "markdown",
   "metadata": {},
   "source": [
    "___"
   ]
  },
  {
   "cell_type": "markdown",
   "metadata": {},
   "source": [
    "# Clean Up"
   ]
  },
  {
   "cell_type": "code",
   "execution_count": 720,
   "metadata": {},
   "outputs": [],
   "source": [
    "cast_dict = {}\n",
    "for col in _gt.columns:\n",
    "    cast_dict[col] = float\n",
    "cast_dict['Week'] = int\n",
    "\n",
    "for _df in [_gt, _ins]:\n",
    "    _df = _df.astype(cast_dict)"
   ]
  },
  {
   "cell_type": "code",
   "execution_count": 721,
   "metadata": {},
   "outputs": [
    {
     "data": {
      "text/html": [
       "<div>\n",
       "<style scoped>\n",
       "    .dataframe tbody tr th:only-of-type {\n",
       "        vertical-align: middle;\n",
       "    }\n",
       "\n",
       "    .dataframe tbody tr th {\n",
       "        vertical-align: top;\n",
       "    }\n",
       "\n",
       "    .dataframe thead th {\n",
       "        text-align: right;\n",
       "    }\n",
       "</style>\n",
       "<table border=\"1\" class=\"dataframe\">\n",
       "  <thead>\n",
       "    <tr style=\"text-align: right;\">\n",
       "      <th></th>\n",
       "      <th>Week</th>\n",
       "      <th>GPSTime</th>\n",
       "      <th>Latitude</th>\n",
       "      <th>Longitude</th>\n",
       "      <th>H-Ell</th>\n",
       "      <th>Roll</th>\n",
       "      <th>Pitch</th>\n",
       "      <th>Heading</th>\n",
       "    </tr>\n",
       "  </thead>\n",
       "  <tbody>\n",
       "    <tr>\n",
       "      <th>84757</th>\n",
       "      <td>0</td>\n",
       "      <td>357927.015837</td>\n",
       "      <td>30.451049</td>\n",
       "      <td>114.464856</td>\n",
       "      <td>27.973521</td>\n",
       "      <td>0.905960</td>\n",
       "      <td>1.356358</td>\n",
       "      <td>0.850911</td>\n",
       "    </tr>\n",
       "    <tr>\n",
       "      <th>84758</th>\n",
       "      <td>0</td>\n",
       "      <td>357927.020722</td>\n",
       "      <td>30.451049</td>\n",
       "      <td>114.464856</td>\n",
       "      <td>27.974086</td>\n",
       "      <td>0.911146</td>\n",
       "      <td>1.357904</td>\n",
       "      <td>0.852069</td>\n",
       "    </tr>\n",
       "  </tbody>\n",
       "</table>\n",
       "</div>"
      ],
      "text/plain": [
       "       Week        GPSTime   Latitude   Longitude      H-Ell      Roll  \\\n",
       "84757     0  357927.015837  30.451049  114.464856  27.973521  0.905960   \n",
       "84758     0  357927.020722  30.451049  114.464856  27.974086  0.911146   \n",
       "\n",
       "          Pitch   Heading  \n",
       "84757  1.356358  0.850911  \n",
       "84758  1.357904  0.852069  "
      ]
     },
     "execution_count": 721,
     "metadata": {},
     "output_type": "execute_result"
    }
   ],
   "source": [
    "_ins.head(2)"
   ]
  },
  {
   "cell_type": "code",
   "execution_count": 722,
   "metadata": {},
   "outputs": [],
   "source": [
    "col_map = {\n",
    "        'Week'              : \"gps_week\",\n",
    "        'GPSTime'           : \"gps_sec\",\n",
    "        'Latitude'          : 'lat',\n",
    "        'Longitude'         : 'lon',\n",
    "        'H-Ell'             : 'alt',\n",
    "        'Heading'           : 'heading',\n",
    "        'Pitch'             : 'pitch',\n",
    "        'Roll'              : 'roll',\n",
    "}"
   ]
  },
  {
   "cell_type": "code",
   "execution_count": 723,
   "metadata": {},
   "outputs": [],
   "source": [
    "gt = pd.DataFrame()\n",
    "ins = pd.DataFrame()\n",
    "\n",
    "_map_old_df_ = {\"_ins\": _ins, \n",
    "                \"_gt\": _gt }\n",
    "\n",
    "_map_new_df_ = {\"_ins\" : ins, \n",
    "                \"_gt\": gt}"
   ]
  },
  {
   "cell_type": "code",
   "execution_count": 724,
   "metadata": {},
   "outputs": [],
   "source": [
    "SECONDS_IN_GPS_WEEK = 604800.0\n",
    "def gpst2utc(gps_week, gps_seconds):\n",
    "    '''\n",
    "    To time associate IMU data with GNSS data, GNSS data's time stamps which are in \n",
    "    GPS time must be converted to UTC time, this funciton does that. \n",
    "\n",
    "    Code from the open-soruce data set repo https://github.com/IPNL-POLYU/UrbanNavDataset/blob/master/docs/GETTING_STARTED.md\n",
    "    '''\n",
    "    utctime = (gps_week * SECONDS_IN_GPS_WEEK + gps_seconds-18) + 315964800\n",
    "    return utctime"
   ]
  },
  {
   "cell_type": "code",
   "execution_count": 725,
   "metadata": {},
   "outputs": [],
   "source": [
    "for df_key in _map_old_df_.keys():\n",
    "    for col_key, val in col_map.items():\n",
    "        _map_new_df_[df_key][val] = _map_old_df_[df_key][col_key] \n",
    "\n",
    "for _df in _map_new_df_.values():\n",
    "    _df['time_utc'] = _df.apply(lambda x: gpst2utc(x['gps_week'], x['gps_sec']), axis=1)\n"
   ]
  },
  {
   "cell_type": "code",
   "execution_count": 726,
   "metadata": {},
   "outputs": [
    {
     "data": {
      "text/html": [
       "<div>\n",
       "<style scoped>\n",
       "    .dataframe tbody tr th:only-of-type {\n",
       "        vertical-align: middle;\n",
       "    }\n",
       "\n",
       "    .dataframe tbody tr th {\n",
       "        vertical-align: top;\n",
       "    }\n",
       "\n",
       "    .dataframe thead th {\n",
       "        text-align: right;\n",
       "    }\n",
       "</style>\n",
       "<table border=\"1\" class=\"dataframe\">\n",
       "  <thead>\n",
       "    <tr style=\"text-align: right;\">\n",
       "      <th></th>\n",
       "      <th>gps_week</th>\n",
       "      <th>gps_sec</th>\n",
       "      <th>lat</th>\n",
       "      <th>lon</th>\n",
       "      <th>alt</th>\n",
       "      <th>heading</th>\n",
       "      <th>pitch</th>\n",
       "      <th>roll</th>\n",
       "      <th>time_utc</th>\n",
       "    </tr>\n",
       "  </thead>\n",
       "  <tbody>\n",
       "    <tr>\n",
       "      <th>83214</th>\n",
       "      <td>0</td>\n",
       "      <td>357927.0123</td>\n",
       "      <td>30.451049</td>\n",
       "      <td>114.464856</td>\n",
       "      <td>27.97355</td>\n",
       "      <td>0.85153</td>\n",
       "      <td>1.35216</td>\n",
       "      <td>0.90152</td>\n",
       "      <td>3.163227e+08</td>\n",
       "    </tr>\n",
       "    <tr>\n",
       "      <th>83215</th>\n",
       "      <td>0</td>\n",
       "      <td>357927.0173</td>\n",
       "      <td>30.451049</td>\n",
       "      <td>114.464856</td>\n",
       "      <td>27.97406</td>\n",
       "      <td>0.85192</td>\n",
       "      <td>1.35446</td>\n",
       "      <td>0.90399</td>\n",
       "      <td>3.163227e+08</td>\n",
       "    </tr>\n",
       "  </tbody>\n",
       "</table>\n",
       "</div>"
      ],
      "text/plain": [
       "       gps_week      gps_sec        lat         lon       alt  heading  \\\n",
       "83214         0  357927.0123  30.451049  114.464856  27.97355  0.85153   \n",
       "83215         0  357927.0173  30.451049  114.464856  27.97406  0.85192   \n",
       "\n",
       "         pitch     roll      time_utc  \n",
       "83214  1.35216  0.90152  3.163227e+08  \n",
       "83215  1.35446  0.90399  3.163227e+08  "
      ]
     },
     "execution_count": 726,
     "metadata": {},
     "output_type": "execute_result"
    }
   ],
   "source": [
    "gt.head(2)"
   ]
  },
  {
   "cell_type": "code",
   "execution_count": 727,
   "metadata": {},
   "outputs": [
    {
     "data": {
      "text/html": [
       "<div>\n",
       "<style scoped>\n",
       "    .dataframe tbody tr th:only-of-type {\n",
       "        vertical-align: middle;\n",
       "    }\n",
       "\n",
       "    .dataframe tbody tr th {\n",
       "        vertical-align: top;\n",
       "    }\n",
       "\n",
       "    .dataframe thead th {\n",
       "        text-align: right;\n",
       "    }\n",
       "</style>\n",
       "<table border=\"1\" class=\"dataframe\">\n",
       "  <thead>\n",
       "    <tr style=\"text-align: right;\">\n",
       "      <th></th>\n",
       "      <th>gps_week</th>\n",
       "      <th>gps_sec</th>\n",
       "      <th>lat</th>\n",
       "      <th>lon</th>\n",
       "      <th>alt</th>\n",
       "      <th>heading</th>\n",
       "      <th>pitch</th>\n",
       "      <th>roll</th>\n",
       "      <th>time_utc</th>\n",
       "    </tr>\n",
       "  </thead>\n",
       "  <tbody>\n",
       "    <tr>\n",
       "      <th>84757</th>\n",
       "      <td>0</td>\n",
       "      <td>357927.015837</td>\n",
       "      <td>30.451049</td>\n",
       "      <td>114.464856</td>\n",
       "      <td>27.973521</td>\n",
       "      <td>0.850911</td>\n",
       "      <td>1.356358</td>\n",
       "      <td>0.905960</td>\n",
       "      <td>3.163227e+08</td>\n",
       "    </tr>\n",
       "    <tr>\n",
       "      <th>84758</th>\n",
       "      <td>0</td>\n",
       "      <td>357927.020722</td>\n",
       "      <td>30.451049</td>\n",
       "      <td>114.464856</td>\n",
       "      <td>27.974086</td>\n",
       "      <td>0.852069</td>\n",
       "      <td>1.357904</td>\n",
       "      <td>0.911146</td>\n",
       "      <td>3.163227e+08</td>\n",
       "    </tr>\n",
       "  </tbody>\n",
       "</table>\n",
       "</div>"
      ],
      "text/plain": [
       "       gps_week        gps_sec        lat         lon        alt   heading  \\\n",
       "84757         0  357927.015837  30.451049  114.464856  27.973521  0.850911   \n",
       "84758         0  357927.020722  30.451049  114.464856  27.974086  0.852069   \n",
       "\n",
       "          pitch      roll      time_utc  \n",
       "84757  1.356358  0.905960  3.163227e+08  \n",
       "84758  1.357904  0.911146  3.163227e+08  "
      ]
     },
     "execution_count": 727,
     "metadata": {},
     "output_type": "execute_result"
    }
   ],
   "source": [
    "ins.head(2)"
   ]
  },
  {
   "cell_type": "markdown",
   "metadata": {},
   "source": [
    "___"
   ]
  },
  {
   "cell_type": "code",
   "execution_count": 728,
   "metadata": {},
   "outputs": [
    {
     "name": "stdout",
     "output_type": "stream",
     "text": [
      "316322709.0158369 316322723.0073\n"
     ]
    }
   ],
   "source": [
    "t_min = max(gt['time_utc'].min(),\n",
    "            ins['time_utc'].min(),)\n",
    "\n",
    "t_max = gt['time_utc'].max()\n",
    "\n",
    "print(t_min, t_max)\n"
   ]
  },
  {
   "cell_type": "code",
   "execution_count": 729,
   "metadata": {},
   "outputs": [
    {
     "data": {
      "text/plain": [
       "gps_week    0.000000e+00\n",
       "gps_sec     3.579340e+05\n",
       "lat         3.045172e+01\n",
       "lon         1.144648e+02\n",
       "alt         2.894528e+01\n",
       "heading     2.494040e+00\n",
       "pitch       1.363960e+00\n",
       "roll        9.275400e-01\n",
       "time_utc    3.163227e+08\n",
       "Name: 84621, dtype: float64"
      ]
     },
     "execution_count": 729,
     "metadata": {},
     "output_type": "execute_result"
    }
   ],
   "source": [
    "t_mid = (t_min + t_max) / 2\n",
    "row_mid_gt = gt.loc[(gt.time_utc - t_mid).abs().idxmin()]\n",
    "row_mid_gt"
   ]
  },
  {
   "cell_type": "code",
   "execution_count": 730,
   "metadata": {},
   "outputs": [],
   "source": [
    "lat_mid, lon_mid, h_mid = row_mid_gt['lat'], row_mid_gt['lon'], row_mid_gt['alt']"
   ]
  },
  {
   "cell_type": "code",
   "execution_count": 731,
   "metadata": {},
   "outputs": [],
   "source": [
    "import math\n",
    "t_a = math.floor(t_min)\n",
    "t_b = math.floor(t_max)"
   ]
  },
  {
   "cell_type": "code",
   "execution_count": 732,
   "metadata": {},
   "outputs": [],
   "source": [
    "plot_start = t_a - 10\n",
    "plot_stop = t_b"
   ]
  },
  {
   "cell_type": "code",
   "execution_count": 734,
   "metadata": {},
   "outputs": [],
   "source": [
    "for _df in _map_new_df_.values():\n",
    "    _df['E'], _df['N'], _df['U'] = zip(*_df.apply(lambda x: pm.geodetic2enu(x['lat'], x['lon'], x['alt'], \n",
    "                                                                            ins['lat'].iloc[0] , ins['lon'].iloc[0] , ins['alt'].iloc[0] ), \n",
    "                                                                            axis=1))"
   ]
  },
  {
   "cell_type": "code",
   "execution_count": 735,
   "metadata": {},
   "outputs": [
    {
     "data": {
      "text/html": [
       "<div>\n",
       "<style scoped>\n",
       "    .dataframe tbody tr th:only-of-type {\n",
       "        vertical-align: middle;\n",
       "    }\n",
       "\n",
       "    .dataframe tbody tr th {\n",
       "        vertical-align: top;\n",
       "    }\n",
       "\n",
       "    .dataframe thead th {\n",
       "        text-align: right;\n",
       "    }\n",
       "</style>\n",
       "<table border=\"1\" class=\"dataframe\">\n",
       "  <thead>\n",
       "    <tr style=\"text-align: right;\">\n",
       "      <th></th>\n",
       "      <th>gps_week</th>\n",
       "      <th>gps_sec</th>\n",
       "      <th>lat</th>\n",
       "      <th>lon</th>\n",
       "      <th>alt</th>\n",
       "      <th>heading</th>\n",
       "      <th>pitch</th>\n",
       "      <th>roll</th>\n",
       "      <th>time_utc</th>\n",
       "      <th>E</th>\n",
       "      <th>N</th>\n",
       "      <th>U</th>\n",
       "    </tr>\n",
       "  </thead>\n",
       "  <tbody>\n",
       "    <tr>\n",
       "      <th>84757</th>\n",
       "      <td>0</td>\n",
       "      <td>357927.015837</td>\n",
       "      <td>30.451049</td>\n",
       "      <td>114.464856</td>\n",
       "      <td>27.973521</td>\n",
       "      <td>0.850911</td>\n",
       "      <td>1.356358</td>\n",
       "      <td>0.905960</td>\n",
       "      <td>3.163227e+08</td>\n",
       "      <td>-0.000000</td>\n",
       "      <td>0.000000</td>\n",
       "      <td>0.000000</td>\n",
       "    </tr>\n",
       "    <tr>\n",
       "      <th>84758</th>\n",
       "      <td>0</td>\n",
       "      <td>357927.020722</td>\n",
       "      <td>30.451049</td>\n",
       "      <td>114.464856</td>\n",
       "      <td>27.974086</td>\n",
       "      <td>0.852069</td>\n",
       "      <td>1.357904</td>\n",
       "      <td>0.911146</td>\n",
       "      <td>3.163227e+08</td>\n",
       "      <td>-0.001537</td>\n",
       "      <td>0.048335</td>\n",
       "      <td>0.000565</td>\n",
       "    </tr>\n",
       "    <tr>\n",
       "      <th>84759</th>\n",
       "      <td>0</td>\n",
       "      <td>357927.025615</td>\n",
       "      <td>30.451050</td>\n",
       "      <td>114.464856</td>\n",
       "      <td>27.974648</td>\n",
       "      <td>0.853567</td>\n",
       "      <td>1.359322</td>\n",
       "      <td>0.915096</td>\n",
       "      <td>3.163227e+08</td>\n",
       "      <td>-0.003170</td>\n",
       "      <td>0.096560</td>\n",
       "      <td>0.001127</td>\n",
       "    </tr>\n",
       "    <tr>\n",
       "      <th>84760</th>\n",
       "      <td>0</td>\n",
       "      <td>357927.030491</td>\n",
       "      <td>30.451050</td>\n",
       "      <td>114.464856</td>\n",
       "      <td>27.975219</td>\n",
       "      <td>0.855241</td>\n",
       "      <td>1.361030</td>\n",
       "      <td>0.918928</td>\n",
       "      <td>3.163227e+08</td>\n",
       "      <td>-0.004802</td>\n",
       "      <td>0.144784</td>\n",
       "      <td>0.001697</td>\n",
       "    </tr>\n",
       "    <tr>\n",
       "      <th>84761</th>\n",
       "      <td>0</td>\n",
       "      <td>357927.035386</td>\n",
       "      <td>30.451051</td>\n",
       "      <td>114.464856</td>\n",
       "      <td>27.975805</td>\n",
       "      <td>0.856675</td>\n",
       "      <td>1.362962</td>\n",
       "      <td>0.922730</td>\n",
       "      <td>3.163227e+08</td>\n",
       "      <td>-0.006531</td>\n",
       "      <td>0.193230</td>\n",
       "      <td>0.002283</td>\n",
       "    </tr>\n",
       "    <tr>\n",
       "      <th>84762</th>\n",
       "      <td>0</td>\n",
       "      <td>357927.040273</td>\n",
       "      <td>30.451051</td>\n",
       "      <td>114.464856</td>\n",
       "      <td>27.976401</td>\n",
       "      <td>0.858268</td>\n",
       "      <td>1.364159</td>\n",
       "      <td>0.924167</td>\n",
       "      <td>3.163227e+08</td>\n",
       "      <td>-0.008164</td>\n",
       "      <td>0.241454</td>\n",
       "      <td>0.002879</td>\n",
       "    </tr>\n",
       "    <tr>\n",
       "      <th>84763</th>\n",
       "      <td>0</td>\n",
       "      <td>357927.045157</td>\n",
       "      <td>30.451052</td>\n",
       "      <td>114.464856</td>\n",
       "      <td>27.977004</td>\n",
       "      <td>0.859950</td>\n",
       "      <td>1.363302</td>\n",
       "      <td>0.924091</td>\n",
       "      <td>3.163227e+08</td>\n",
       "      <td>-0.009797</td>\n",
       "      <td>0.289790</td>\n",
       "      <td>0.003483</td>\n",
       "    </tr>\n",
       "    <tr>\n",
       "      <th>84764</th>\n",
       "      <td>0</td>\n",
       "      <td>357927.050028</td>\n",
       "      <td>30.451052</td>\n",
       "      <td>114.464856</td>\n",
       "      <td>27.977611</td>\n",
       "      <td>0.862140</td>\n",
       "      <td>1.362144</td>\n",
       "      <td>0.923051</td>\n",
       "      <td>3.163227e+08</td>\n",
       "      <td>-0.011526</td>\n",
       "      <td>0.338014</td>\n",
       "      <td>0.004090</td>\n",
       "    </tr>\n",
       "    <tr>\n",
       "      <th>84765</th>\n",
       "      <td>0</td>\n",
       "      <td>357927.054913</td>\n",
       "      <td>30.451053</td>\n",
       "      <td>114.464856</td>\n",
       "      <td>27.978216</td>\n",
       "      <td>0.863963</td>\n",
       "      <td>1.360919</td>\n",
       "      <td>0.922051</td>\n",
       "      <td>3.163227e+08</td>\n",
       "      <td>-0.013255</td>\n",
       "      <td>0.386349</td>\n",
       "      <td>0.004695</td>\n",
       "    </tr>\n",
       "    <tr>\n",
       "      <th>84766</th>\n",
       "      <td>0</td>\n",
       "      <td>357927.059807</td>\n",
       "      <td>30.451053</td>\n",
       "      <td>114.464856</td>\n",
       "      <td>27.978809</td>\n",
       "      <td>0.865544</td>\n",
       "      <td>1.361407</td>\n",
       "      <td>0.921363</td>\n",
       "      <td>3.163227e+08</td>\n",
       "      <td>-0.014887</td>\n",
       "      <td>0.434795</td>\n",
       "      <td>0.005288</td>\n",
       "    </tr>\n",
       "  </tbody>\n",
       "</table>\n",
       "</div>"
      ],
      "text/plain": [
       "       gps_week        gps_sec        lat         lon        alt   heading  \\\n",
       "84757         0  357927.015837  30.451049  114.464856  27.973521  0.850911   \n",
       "84758         0  357927.020722  30.451049  114.464856  27.974086  0.852069   \n",
       "84759         0  357927.025615  30.451050  114.464856  27.974648  0.853567   \n",
       "84760         0  357927.030491  30.451050  114.464856  27.975219  0.855241   \n",
       "84761         0  357927.035386  30.451051  114.464856  27.975805  0.856675   \n",
       "84762         0  357927.040273  30.451051  114.464856  27.976401  0.858268   \n",
       "84763         0  357927.045157  30.451052  114.464856  27.977004  0.859950   \n",
       "84764         0  357927.050028  30.451052  114.464856  27.977611  0.862140   \n",
       "84765         0  357927.054913  30.451053  114.464856  27.978216  0.863963   \n",
       "84766         0  357927.059807  30.451053  114.464856  27.978809  0.865544   \n",
       "\n",
       "          pitch      roll      time_utc         E         N         U  \n",
       "84757  1.356358  0.905960  3.163227e+08 -0.000000  0.000000  0.000000  \n",
       "84758  1.357904  0.911146  3.163227e+08 -0.001537  0.048335  0.000565  \n",
       "84759  1.359322  0.915096  3.163227e+08 -0.003170  0.096560  0.001127  \n",
       "84760  1.361030  0.918928  3.163227e+08 -0.004802  0.144784  0.001697  \n",
       "84761  1.362962  0.922730  3.163227e+08 -0.006531  0.193230  0.002283  \n",
       "84762  1.364159  0.924167  3.163227e+08 -0.008164  0.241454  0.002879  \n",
       "84763  1.363302  0.924091  3.163227e+08 -0.009797  0.289790  0.003483  \n",
       "84764  1.362144  0.923051  3.163227e+08 -0.011526  0.338014  0.004090  \n",
       "84765  1.360919  0.922051  3.163227e+08 -0.013255  0.386349  0.004695  \n",
       "84766  1.361407  0.921363  3.163227e+08 -0.014887  0.434795  0.005288  "
      ]
     },
     "execution_count": 735,
     "metadata": {},
     "output_type": "execute_result"
    }
   ],
   "source": [
    "ins.head(10)"
   ]
  },
  {
   "cell_type": "code",
   "execution_count": 736,
   "metadata": {},
   "outputs": [
    {
     "data": {
      "text/html": [
       "<div>\n",
       "<style scoped>\n",
       "    .dataframe tbody tr th:only-of-type {\n",
       "        vertical-align: middle;\n",
       "    }\n",
       "\n",
       "    .dataframe tbody tr th {\n",
       "        vertical-align: top;\n",
       "    }\n",
       "\n",
       "    .dataframe thead th {\n",
       "        text-align: right;\n",
       "    }\n",
       "</style>\n",
       "<table border=\"1\" class=\"dataframe\">\n",
       "  <thead>\n",
       "    <tr style=\"text-align: right;\">\n",
       "      <th></th>\n",
       "      <th>gps_week</th>\n",
       "      <th>gps_sec</th>\n",
       "      <th>lat</th>\n",
       "      <th>lon</th>\n",
       "      <th>alt</th>\n",
       "      <th>heading</th>\n",
       "      <th>pitch</th>\n",
       "      <th>roll</th>\n",
       "      <th>time_utc</th>\n",
       "      <th>E</th>\n",
       "      <th>N</th>\n",
       "      <th>U</th>\n",
       "    </tr>\n",
       "  </thead>\n",
       "  <tbody>\n",
       "    <tr>\n",
       "      <th>83214</th>\n",
       "      <td>0</td>\n",
       "      <td>357927.0123</td>\n",
       "      <td>30.451049</td>\n",
       "      <td>114.464856</td>\n",
       "      <td>27.97355</td>\n",
       "      <td>0.85153</td>\n",
       "      <td>1.35216</td>\n",
       "      <td>0.90152</td>\n",
       "      <td>3.163227e+08</td>\n",
       "      <td>0.000010</td>\n",
       "      <td>0.001197</td>\n",
       "      <td>0.000029</td>\n",
       "    </tr>\n",
       "    <tr>\n",
       "      <th>83215</th>\n",
       "      <td>0</td>\n",
       "      <td>357927.0173</td>\n",
       "      <td>30.451049</td>\n",
       "      <td>114.464856</td>\n",
       "      <td>27.97406</td>\n",
       "      <td>0.85192</td>\n",
       "      <td>1.35446</td>\n",
       "      <td>0.90399</td>\n",
       "      <td>3.163227e+08</td>\n",
       "      <td>-0.001652</td>\n",
       "      <td>0.050564</td>\n",
       "      <td>0.000539</td>\n",
       "    </tr>\n",
       "    <tr>\n",
       "      <th>83216</th>\n",
       "      <td>0</td>\n",
       "      <td>357927.0223</td>\n",
       "      <td>30.451050</td>\n",
       "      <td>114.464856</td>\n",
       "      <td>27.97467</td>\n",
       "      <td>0.85339</td>\n",
       "      <td>1.35833</td>\n",
       "      <td>0.90649</td>\n",
       "      <td>3.163227e+08</td>\n",
       "      <td>-0.003304</td>\n",
       "      <td>0.099963</td>\n",
       "      <td>0.001149</td>\n",
       "    </tr>\n",
       "    <tr>\n",
       "      <th>83217</th>\n",
       "      <td>0</td>\n",
       "      <td>357927.0273</td>\n",
       "      <td>30.451050</td>\n",
       "      <td>114.464856</td>\n",
       "      <td>27.97516</td>\n",
       "      <td>0.85414</td>\n",
       "      <td>1.35979</td>\n",
       "      <td>0.90451</td>\n",
       "      <td>3.163227e+08</td>\n",
       "      <td>-0.004937</td>\n",
       "      <td>0.149385</td>\n",
       "      <td>0.001639</td>\n",
       "    </tr>\n",
       "    <tr>\n",
       "      <th>83218</th>\n",
       "      <td>0</td>\n",
       "      <td>357927.0323</td>\n",
       "      <td>30.451051</td>\n",
       "      <td>114.464856</td>\n",
       "      <td>27.97576</td>\n",
       "      <td>0.85560</td>\n",
       "      <td>1.36133</td>\n",
       "      <td>0.90494</td>\n",
       "      <td>3.163227e+08</td>\n",
       "      <td>-0.006598</td>\n",
       "      <td>0.198795</td>\n",
       "      <td>0.002239</td>\n",
       "    </tr>\n",
       "    <tr>\n",
       "      <th>83219</th>\n",
       "      <td>0</td>\n",
       "      <td>357927.0373</td>\n",
       "      <td>30.451051</td>\n",
       "      <td>114.464856</td>\n",
       "      <td>27.97626</td>\n",
       "      <td>0.85665</td>\n",
       "      <td>1.36514</td>\n",
       "      <td>0.90612</td>\n",
       "      <td>3.163227e+08</td>\n",
       "      <td>-0.008260</td>\n",
       "      <td>0.248228</td>\n",
       "      <td>0.002739</td>\n",
       "    </tr>\n",
       "    <tr>\n",
       "      <th>83220</th>\n",
       "      <td>0</td>\n",
       "      <td>357927.0423</td>\n",
       "      <td>30.451052</td>\n",
       "      <td>114.464856</td>\n",
       "      <td>27.97686</td>\n",
       "      <td>0.85805</td>\n",
       "      <td>1.36697</td>\n",
       "      <td>0.90737</td>\n",
       "      <td>3.163227e+08</td>\n",
       "      <td>-0.009941</td>\n",
       "      <td>0.297694</td>\n",
       "      <td>0.003339</td>\n",
       "    </tr>\n",
       "    <tr>\n",
       "      <th>83221</th>\n",
       "      <td>0</td>\n",
       "      <td>357927.0473</td>\n",
       "      <td>30.451052</td>\n",
       "      <td>114.464856</td>\n",
       "      <td>27.97746</td>\n",
       "      <td>0.85946</td>\n",
       "      <td>1.36427</td>\n",
       "      <td>0.90611</td>\n",
       "      <td>3.163227e+08</td>\n",
       "      <td>-0.011631</td>\n",
       "      <td>0.347171</td>\n",
       "      <td>0.003939</td>\n",
       "    </tr>\n",
       "    <tr>\n",
       "      <th>83222</th>\n",
       "      <td>0</td>\n",
       "      <td>357927.0523</td>\n",
       "      <td>30.451053</td>\n",
       "      <td>114.464856</td>\n",
       "      <td>27.97806</td>\n",
       "      <td>0.86131</td>\n",
       "      <td>1.36236</td>\n",
       "      <td>0.90573</td>\n",
       "      <td>3.163227e+08</td>\n",
       "      <td>-0.013341</td>\n",
       "      <td>0.396648</td>\n",
       "      <td>0.004539</td>\n",
       "    </tr>\n",
       "    <tr>\n",
       "      <th>83223</th>\n",
       "      <td>0</td>\n",
       "      <td>357927.0573</td>\n",
       "      <td>30.451053</td>\n",
       "      <td>114.464856</td>\n",
       "      <td>27.97866</td>\n",
       "      <td>0.86288</td>\n",
       "      <td>1.36088</td>\n",
       "      <td>0.90617</td>\n",
       "      <td>3.163227e+08</td>\n",
       "      <td>-0.015051</td>\n",
       "      <td>0.446136</td>\n",
       "      <td>0.005139</td>\n",
       "    </tr>\n",
       "  </tbody>\n",
       "</table>\n",
       "</div>"
      ],
      "text/plain": [
       "       gps_week      gps_sec        lat         lon       alt  heading  \\\n",
       "83214         0  357927.0123  30.451049  114.464856  27.97355  0.85153   \n",
       "83215         0  357927.0173  30.451049  114.464856  27.97406  0.85192   \n",
       "83216         0  357927.0223  30.451050  114.464856  27.97467  0.85339   \n",
       "83217         0  357927.0273  30.451050  114.464856  27.97516  0.85414   \n",
       "83218         0  357927.0323  30.451051  114.464856  27.97576  0.85560   \n",
       "83219         0  357927.0373  30.451051  114.464856  27.97626  0.85665   \n",
       "83220         0  357927.0423  30.451052  114.464856  27.97686  0.85805   \n",
       "83221         0  357927.0473  30.451052  114.464856  27.97746  0.85946   \n",
       "83222         0  357927.0523  30.451053  114.464856  27.97806  0.86131   \n",
       "83223         0  357927.0573  30.451053  114.464856  27.97866  0.86288   \n",
       "\n",
       "         pitch     roll      time_utc         E         N         U  \n",
       "83214  1.35216  0.90152  3.163227e+08  0.000010  0.001197  0.000029  \n",
       "83215  1.35446  0.90399  3.163227e+08 -0.001652  0.050564  0.000539  \n",
       "83216  1.35833  0.90649  3.163227e+08 -0.003304  0.099963  0.001149  \n",
       "83217  1.35979  0.90451  3.163227e+08 -0.004937  0.149385  0.001639  \n",
       "83218  1.36133  0.90494  3.163227e+08 -0.006598  0.198795  0.002239  \n",
       "83219  1.36514  0.90612  3.163227e+08 -0.008260  0.248228  0.002739  \n",
       "83220  1.36697  0.90737  3.163227e+08 -0.009941  0.297694  0.003339  \n",
       "83221  1.36427  0.90611  3.163227e+08 -0.011631  0.347171  0.003939  \n",
       "83222  1.36236  0.90573  3.163227e+08 -0.013341  0.396648  0.004539  \n",
       "83223  1.36088  0.90617  3.163227e+08 -0.015051  0.446136  0.005139  "
      ]
     },
     "execution_count": 736,
     "metadata": {},
     "output_type": "execute_result"
    }
   ],
   "source": [
    "gt.head(10)"
   ]
  },
  {
   "cell_type": "code",
   "execution_count": 737,
   "metadata": {},
   "outputs": [
    {
     "data": {
      "text/plain": [
       "316322723.0073"
      ]
     },
     "execution_count": 737,
     "metadata": {},
     "output_type": "execute_result"
    }
   ],
   "source": [
    "gt['time_utc'].iloc[-1]"
   ]
  },
  {
   "cell_type": "code",
   "execution_count": 738,
   "metadata": {},
   "outputs": [
    {
     "data": {
      "text/plain": [
       "316322723.00511795"
      ]
     },
     "execution_count": 738,
     "metadata": {},
     "output_type": "execute_result"
    }
   ],
   "source": [
    "ins['time_utc'].iloc[-1]"
   ]
  },
  {
   "cell_type": "code",
   "execution_count": 739,
   "metadata": {},
   "outputs": [],
   "source": [
    "gt = gt[(gt['time_utc'] >= t_a) & (gt['time_utc'] <= t_b)]"
   ]
  },
  {
   "cell_type": "code",
   "execution_count": 740,
   "metadata": {},
   "outputs": [],
   "source": [
    "ins_plot = ins[(ins['time_utc'] >= (t_a)) & (ins['time_utc'] <= (t_b))]"
   ]
  },
  {
   "cell_type": "code",
   "execution_count": 741,
   "metadata": {},
   "outputs": [
    {
     "data": {
      "text/html": [
       "<div>\n",
       "<style scoped>\n",
       "    .dataframe tbody tr th:only-of-type {\n",
       "        vertical-align: middle;\n",
       "    }\n",
       "\n",
       "    .dataframe tbody tr th {\n",
       "        vertical-align: top;\n",
       "    }\n",
       "\n",
       "    .dataframe thead th {\n",
       "        text-align: right;\n",
       "    }\n",
       "</style>\n",
       "<table border=\"1\" class=\"dataframe\">\n",
       "  <thead>\n",
       "    <tr style=\"text-align: right;\">\n",
       "      <th></th>\n",
       "      <th>gps_week</th>\n",
       "      <th>gps_sec</th>\n",
       "      <th>lat</th>\n",
       "      <th>lon</th>\n",
       "      <th>alt</th>\n",
       "      <th>heading</th>\n",
       "      <th>pitch</th>\n",
       "      <th>roll</th>\n",
       "      <th>time_utc</th>\n",
       "      <th>E</th>\n",
       "      <th>N</th>\n",
       "      <th>U</th>\n",
       "    </tr>\n",
       "  </thead>\n",
       "  <tbody>\n",
       "    <tr>\n",
       "      <th>84757</th>\n",
       "      <td>0</td>\n",
       "      <td>357927.015837</td>\n",
       "      <td>30.451049</td>\n",
       "      <td>114.464856</td>\n",
       "      <td>27.973521</td>\n",
       "      <td>0.850911</td>\n",
       "      <td>1.356358</td>\n",
       "      <td>0.905960</td>\n",
       "      <td>3.163227e+08</td>\n",
       "      <td>-0.000000</td>\n",
       "      <td>0.000000</td>\n",
       "      <td>0.000000</td>\n",
       "    </tr>\n",
       "    <tr>\n",
       "      <th>84758</th>\n",
       "      <td>0</td>\n",
       "      <td>357927.020722</td>\n",
       "      <td>30.451049</td>\n",
       "      <td>114.464856</td>\n",
       "      <td>27.974086</td>\n",
       "      <td>0.852069</td>\n",
       "      <td>1.357904</td>\n",
       "      <td>0.911146</td>\n",
       "      <td>3.163227e+08</td>\n",
       "      <td>-0.001537</td>\n",
       "      <td>0.048335</td>\n",
       "      <td>0.000565</td>\n",
       "    </tr>\n",
       "  </tbody>\n",
       "</table>\n",
       "</div>"
      ],
      "text/plain": [
       "       gps_week        gps_sec        lat         lon        alt   heading  \\\n",
       "84757         0  357927.015837  30.451049  114.464856  27.973521  0.850911   \n",
       "84758         0  357927.020722  30.451049  114.464856  27.974086  0.852069   \n",
       "\n",
       "          pitch      roll      time_utc         E         N         U  \n",
       "84757  1.356358  0.905960  3.163227e+08 -0.000000  0.000000  0.000000  \n",
       "84758  1.357904  0.911146  3.163227e+08 -0.001537  0.048335  0.000565  "
      ]
     },
     "execution_count": 741,
     "metadata": {},
     "output_type": "execute_result"
    }
   ],
   "source": [
    "ins_plot.head(2)"
   ]
  },
  {
   "cell_type": "code",
   "execution_count": 742,
   "metadata": {},
   "outputs": [],
   "source": [
    "gt_plot = gt[(gt['time_utc'] > (t_a)) & (gt['time_utc'] < (t_b))]"
   ]
  },
  {
   "cell_type": "code",
   "execution_count": 743,
   "metadata": {},
   "outputs": [
    {
     "data": {
      "text/html": [
       "<div>\n",
       "<style scoped>\n",
       "    .dataframe tbody tr th:only-of-type {\n",
       "        vertical-align: middle;\n",
       "    }\n",
       "\n",
       "    .dataframe tbody tr th {\n",
       "        vertical-align: top;\n",
       "    }\n",
       "\n",
       "    .dataframe thead th {\n",
       "        text-align: right;\n",
       "    }\n",
       "</style>\n",
       "<table border=\"1\" class=\"dataframe\">\n",
       "  <thead>\n",
       "    <tr style=\"text-align: right;\">\n",
       "      <th></th>\n",
       "      <th>gps_week</th>\n",
       "      <th>gps_sec</th>\n",
       "      <th>lat</th>\n",
       "      <th>lon</th>\n",
       "      <th>alt</th>\n",
       "      <th>heading</th>\n",
       "      <th>pitch</th>\n",
       "      <th>roll</th>\n",
       "      <th>time_utc</th>\n",
       "      <th>E</th>\n",
       "      <th>N</th>\n",
       "      <th>U</th>\n",
       "    </tr>\n",
       "  </thead>\n",
       "  <tbody>\n",
       "    <tr>\n",
       "      <th>83214</th>\n",
       "      <td>0</td>\n",
       "      <td>357927.0123</td>\n",
       "      <td>30.451049</td>\n",
       "      <td>114.464856</td>\n",
       "      <td>27.97355</td>\n",
       "      <td>0.85153</td>\n",
       "      <td>1.35216</td>\n",
       "      <td>0.90152</td>\n",
       "      <td>3.163227e+08</td>\n",
       "      <td>0.000010</td>\n",
       "      <td>0.001197</td>\n",
       "      <td>0.000029</td>\n",
       "    </tr>\n",
       "    <tr>\n",
       "      <th>83215</th>\n",
       "      <td>0</td>\n",
       "      <td>357927.0173</td>\n",
       "      <td>30.451049</td>\n",
       "      <td>114.464856</td>\n",
       "      <td>27.97406</td>\n",
       "      <td>0.85192</td>\n",
       "      <td>1.35446</td>\n",
       "      <td>0.90399</td>\n",
       "      <td>3.163227e+08</td>\n",
       "      <td>-0.001652</td>\n",
       "      <td>0.050564</td>\n",
       "      <td>0.000539</td>\n",
       "    </tr>\n",
       "  </tbody>\n",
       "</table>\n",
       "</div>"
      ],
      "text/plain": [
       "       gps_week      gps_sec        lat         lon       alt  heading  \\\n",
       "83214         0  357927.0123  30.451049  114.464856  27.97355  0.85153   \n",
       "83215         0  357927.0173  30.451049  114.464856  27.97406  0.85192   \n",
       "\n",
       "         pitch     roll      time_utc         E         N         U  \n",
       "83214  1.35216  0.90152  3.163227e+08  0.000010  0.001197  0.000029  \n",
       "83215  1.35446  0.90399  3.163227e+08 -0.001652  0.050564  0.000539  "
      ]
     },
     "execution_count": 743,
     "metadata": {},
     "output_type": "execute_result"
    }
   ],
   "source": [
    "gt_plot.head(2)"
   ]
  },
  {
   "cell_type": "code",
   "execution_count": 744,
   "metadata": {},
   "outputs": [
    {
     "data": {
      "text/plain": [
       "0.4884525804580013"
      ]
     },
     "execution_count": 744,
     "metadata": {},
     "output_type": "execute_result"
    }
   ],
   "source": [
    "(ins['time_utc'] - ins['time_utc'].shift(100)).mean()"
   ]
  },
  {
   "cell_type": "code",
   "execution_count": 745,
   "metadata": {},
   "outputs": [
    {
     "data": {
      "text/plain": [
       "Text(0, 0.5, 'North Position (m)')"
      ]
     },
     "execution_count": 745,
     "metadata": {},
     "output_type": "execute_result"
    },
    {
     "data": {
      "image/png": "[encoded data removed]",
      "text/plain": [
       "<Figure size 720x720 with 1 Axes>"
      ]
     },
     "metadata": {
      "needs_background": "light"
     },
     "output_type": "display_data"
    }
   ],
   "source": [
    "fig, axs = plt.subplots(figsize=(10,10))\n",
    "\n",
    "axs.plot(ins_plot['E'], ins_plot['N'], '--', color='r', label='INS (Dead Reckoning)')\n",
    "axs.plot(gt_plot['E'], gt_plot['N'], color='grey', label='Ground Truth')\n",
    "\n",
    "fig.suptitle(\"GICI - Plot of Horizontal Position INS\", size=25)\n",
    "\n",
    "axs.grid(True, which='both',ls='-',color='0.65')\n",
    "axs.legend()\n",
    "axs.set_xlabel(\"East Position (m)\", size=14)\n",
    "axs.set_ylabel(\"North Position (m)\", size=14)"
   ]
  },
  {
   "cell_type": "code",
   "execution_count": 746,
   "metadata": {},
   "outputs": [],
   "source": [
    "_ins_gt = pd.merge_asof(\n",
    "                    left=ins,\n",
    "                    right=gt,\n",
    "                    left_on=\"time_utc\",\n",
    "                    right_on=\"time_utc\",\n",
    "                    suffixes=['', '_gt'],\n",
    "                    direction=\"nearest\")\n"
   ]
  },
  {
   "cell_type": "code",
   "execution_count": 747,
   "metadata": {},
   "outputs": [],
   "source": [
    "_ins_gt['sec_diff'] = abs(_ins_gt['gps_sec'] - _ins_gt['gps_sec_gt'])"
   ]
  },
  {
   "cell_type": "code",
   "execution_count": 748,
   "metadata": {},
   "outputs": [],
   "source": [
    "ins_gt = _ins_gt.sort_values(['time_utc','sec_diff'], ascending=True).drop_duplicates(subset=['gps_sec_gt'], keep='first')"
   ]
  },
  {
   "cell_type": "code",
   "execution_count": 749,
   "metadata": {},
   "outputs": [],
   "source": [
    "ins_gt = ins_gt[(ins_gt['time_utc'] >= t_a) & (ins_gt['time_utc'] <= t_b)]"
   ]
  },
  {
   "cell_type": "code",
   "execution_count": 750,
   "metadata": {},
   "outputs": [],
   "source": [
    "for _df in [ins_gt]:\n",
    "        _df['dE'], _df['dN'], _df['dU'] = zip(*_df.apply(lambda x: pm.geodetic2enu(x['lat'], x['lon'], x['alt'], \n",
    "                x['lat_gt'], x['lon_gt'], x['alt_gt'],), \n",
    "        axis=1))"
   ]
  },
  {
   "cell_type": "code",
   "execution_count": null,
   "metadata": {},
   "outputs": [
    {
     "data": {
      "image/png": "[encoded data removed]",
      "text/plain": [
       "<Figure size 1008x576 with 3 Axes>"
      ]
     },
     "metadata": {
      "needs_background": "light"
     },
     "output_type": "display_data"
    }
   ],
   "source": [
    "from matplotlib.ticker import (AutoMinorLocator, MultipleLocator)\n",
    "\n",
    "fig, axs = plt.subplots(nrows=3,ncols=1, figsize=(14,8), sharex=True)\n",
    "axs[0].plot(ins_gt['time_utc'], ins_gt['dE'], color='b', label='INS', linewidth=0.8)\n",
    "axs[1].plot(ins_gt['time_utc'], ins_gt['dN'], color='r', label='INS', linewidth=0.8)\n",
    "axs[2].plot(ins_gt['time_utc'], ins_gt['dU'], color='g', label='INS', linewidth=0.8)\n",
    "\n",
    "axs[0].set_ylabel(r'East Error$\\left(m\\right)$', size=10)\n",
    "axs[1].set_ylabel(r'North Error$\\left(m\\right)$', size=10)\n",
    "axs[2].set_ylabel(r'Up Error$\\left(m\\right)$', size=10)\n",
    "\n",
    "\n",
    "fig.suptitle(\"ENU Error Time Series\", size=18)\n",
    "#fig.supxlabel(r'$t_{rel}$ $(s)$', size=14)\n",
    "fig.align_ylabels()\n",
    "\n",
    "for i, ax in enumerate(axs):\n",
    "\n",
    "    top_ = max(ax.get_yticks())\n",
    "    bot_ = min(ax.get_yticks())\n",
    "\n",
    "    ax.legend(bbox_to_anchor=[1.1,1])\n",
    "    ax.grid(which='minor', alpha=0.2)\n",
    "    ax.grid(which='major', alpha=0.5)\n",
    "    ax.locator_params(nbins=4,axis='y')\n",
    "    ax.yaxis.set_minor_locator(AutoMinorLocator(4))\n",
    "    # ax.locator_params(nbins=20,axis='x')\n",
    "    ax.xaxis.set_minor_locator(AutoMinorLocator(4))\n",
    "    ax.ticklabel_format(useOffset=False,style='plain')\n",
    "\n"
   ]
  },
  {
   "cell_type": "code",
   "execution_count": 753,
   "metadata": {},
   "outputs": [],
   "source": [
    "def get_track_len(df: pd.DataFrame, \n",
    "                col_x: str,\n",
    "                col_y: str,\n",
    "                col_z: str):\n",
    "    __ret = 0\n",
    "    for _col in [col_x, col_y, col_z]:\n",
    "        __ret += np.square(df[_col] - df[_col].shift(-1))\n",
    "\n",
    "    return np.sum(np.sqrt(__ret))\n",
    "\n",
    "\n",
    "def get_3d_rmse(df: pd.DataFrame,\n",
    "                col_dx: str, \n",
    "                col_dy: str,\n",
    "                col_dz: str):\n",
    "    __ret = 0\n",
    "    for _col in [col_dx, col_dy, col_dz]:\n",
    "        __ret += np.square(df[_col])\n",
    "\n",
    "    return np.sqrt(np.mean(__ret))\n",
    "\n",
    "def get_2d_rmse(df: pd.DataFrame,\n",
    "                col_dx: str, \n",
    "                col_dy: str,):\n",
    "    __ret = 0\n",
    "    for _col in [col_dx, col_dy]:\n",
    "        __ret += np.square(df[_col])\n",
    "\n",
    "    return np.sqrt(np.mean(__ret))"
   ]
  },
  {
   "cell_type": "code",
   "execution_count": 754,
   "metadata": {},
   "outputs": [],
   "source": [
    "out_dict_ = {}\n",
    "out_dict_['3D_RMSE'] = {}\n",
    "out_dict_['3D_RMSE_OUT'] = {}\n",
    "out_dict_['2D_RMSE'] = {}\n",
    "out_dict_['2D_RMSE_OUT'] = {}\n",
    "out_dict_['Track_Length'] = {}\n",
    "\n",
    "out_dict_['3D_RMSE']['INS_DR'] = get_3d_rmse(ins_gt, 'dE', 'dN', 'dU')\n",
    "\n",
    "\n",
    "\n",
    "out_dict_['2D_RMSE']['INS_DR'] = get_2d_rmse(ins_gt, 'dE', 'dN')\n",
    "\n",
    "out_dict_['Track_Length']['GT'] = get_track_len(\n",
    "                                        gt[(gt['time_utc'] >= t_a) & (gt['time_utc'] <= t_b)],\n",
    "                                'E', 'N', 'U')\n",
    "out_dict_['3D_RMSE_OUT']['INS_DR'] = get_3d_rmse(\n",
    "                ins_gt[(ins_gt['time_utc'] >= t_a) & (ins_gt['time_utc'] <= t_b)], \n",
    "                                'dE', 'dN', 'dU')\n",
    "\n",
    "out_dict_['2D_RMSE_OUT']['INS_DR'] = get_2d_rmse(\n",
    "                ins_gt[(ins_gt['time_utc'] >= t_a) & (ins_gt['time_utc'] <= t_b)], \n",
    "                                'dE', 'dN')\n"
   ]
  },
  {
   "cell_type": "code",
   "execution_count": 755,
   "metadata": {},
   "outputs": [
    {
     "data": {
      "text/html": [
       "<div>\n",
       "<style scoped>\n",
       "    .dataframe tbody tr th:only-of-type {\n",
       "        vertical-align: middle;\n",
       "    }\n",
       "\n",
       "    .dataframe tbody tr th {\n",
       "        vertical-align: top;\n",
       "    }\n",
       "\n",
       "    .dataframe thead th {\n",
       "        text-align: right;\n",
       "    }\n",
       "</style>\n",
       "<table border=\"1\" class=\"dataframe\">\n",
       "  <thead>\n",
       "    <tr style=\"text-align: right;\">\n",
       "      <th></th>\n",
       "      <th>3D_RMSE</th>\n",
       "      <th>3D_RMSE_OUT</th>\n",
       "      <th>2D_RMSE</th>\n",
       "      <th>2D_RMSE_OUT</th>\n",
       "      <th>Track_Length</th>\n",
       "      <th>2D_Percent</th>\n",
       "      <th>3D_Percent</th>\n",
       "    </tr>\n",
       "  </thead>\n",
       "  <tbody>\n",
       "    <tr>\n",
       "      <th>INS_DR</th>\n",
       "      <td>11.171</td>\n",
       "      <td>11.171</td>\n",
       "      <td>10.8314</td>\n",
       "      <td>10.8314</td>\n",
       "      <td>NaN</td>\n",
       "      <td>7.1886</td>\n",
       "      <td>7.414</td>\n",
       "    </tr>\n",
       "    <tr>\n",
       "      <th>GT</th>\n",
       "      <td>NaN</td>\n",
       "      <td>NaN</td>\n",
       "      <td>NaN</td>\n",
       "      <td>NaN</td>\n",
       "      <td>150.6751</td>\n",
       "      <td>NaN</td>\n",
       "      <td>NaN</td>\n",
       "    </tr>\n",
       "  </tbody>\n",
       "</table>\n",
       "</div>"
      ],
      "text/plain": [
       "        3D_RMSE  3D_RMSE_OUT  2D_RMSE  2D_RMSE_OUT  Track_Length  2D_Percent  \\\n",
       "INS_DR   11.171       11.171  10.8314      10.8314           NaN      7.1886   \n",
       "GT          NaN          NaN      NaN          NaN      150.6751         NaN   \n",
       "\n",
       "        3D_Percent  \n",
       "INS_DR       7.414  \n",
       "GT             NaN  "
      ]
     },
     "execution_count": 755,
     "metadata": {},
     "output_type": "execute_result"
    }
   ],
   "source": [
    "out_df_ = pd.DataFrame(out_dict_)\n",
    "out_df_['2D_Percent'] = out_df_['2D_RMSE_OUT']/ out_df_['Track_Length']['GT'] * 100 \n",
    "out_df_['3D_Percent'] = out_df_['3D_RMSE_OUT']/ out_df_['Track_Length']['GT'] * 100\n",
    "\n",
    "for col in out_df_.columns:\n",
    "    out_df_[col] = np.round(out_df_[col], 4)\n",
    "\n",
    "out_df_"
   ]
  }
 ],
 "metadata": {
  "kernelspec": {
   "display_name": "ensf-ml",
   "language": "python",
   "name": "python3"
  },
  "language_info": {
   "codemirror_mode": {
    "name": "ipython",
    "version": 3
   },
   "file_extension": ".py",
   "mimetype": "text/x-python",
   "name": "python",
   "nbconvert_exporter": "python",
   "pygments_lexer": "ipython3",
   "version": "3.8.8"
  }
 },
 "nbformat": 4,
 "nbformat_minor": 2
}
